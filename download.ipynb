{
 "cells": [
  {
   "cell_type": "code",
   "execution_count": 1,
   "metadata": {},
   "outputs": [
    {
     "name": "stdout",
     "output_type": "stream",
     "text": [
      "Collecting underthesea\n",
      "  Downloading underthesea-1.3.5-py3-none-any.whl (11.0 MB)\n",
      "\u001b[2K     \u001b[90m━━━━━━━━━━━━━━━━━━━━━━━━━━━━━━━━━━━━━━━━\u001b[0m \u001b[32m11.0/11.0 MB\u001b[0m \u001b[31m14.2 MB/s\u001b[0m eta \u001b[36m0:00:00\u001b[0m00:01\u001b[0m0:01\u001b[0m\n",
      "\u001b[?25hCollecting Click>=6.0\n",
      "  Using cached click-8.1.3-py3-none-any.whl (96 kB)\n",
      "Collecting python-crfsuite>=0.9.6\n",
      "  Downloading python_crfsuite-0.9.8-cp39-cp39-macosx_10_9_x86_64.whl (181 kB)\n",
      "\u001b[2K     \u001b[90m━━━━━━━━━━━━━━━━━━━━━━━━━━━━━━━━━━━━━━━\u001b[0m \u001b[32m181.8/181.8 kB\u001b[0m \u001b[31m4.2 MB/s\u001b[0m eta \u001b[36m0:00:00\u001b[0ma \u001b[36m0:00:01\u001b[0m\n",
      "\u001b[?25hCollecting PyYAML\n",
      "  Downloading PyYAML-6.0-cp39-cp39-macosx_10_9_x86_64.whl (197 kB)\n",
      "\u001b[2K     \u001b[90m━━━━━━━━━━━━━━━━━━━━━━━━━━━━━━━━━━━━━━━\u001b[0m \u001b[32m197.6/197.6 kB\u001b[0m \u001b[31m8.1 MB/s\u001b[0m eta \u001b[36m0:00:00\u001b[0m\n",
      "\u001b[?25hCollecting unidecode\n",
      "  Using cached Unidecode-1.3.6-py3-none-any.whl (235 kB)\n",
      "Collecting scikit-learn\n",
      "  Downloading scikit_learn-1.1.3-cp39-cp39-macosx_10_9_x86_64.whl (8.7 MB)\n",
      "\u001b[2K     \u001b[90m━━━━━━━━━━━━━━━━━━━━━━━━━━━━━━━━━━━━━━━━\u001b[0m \u001b[32m8.7/8.7 MB\u001b[0m \u001b[31m19.2 MB/s\u001b[0m eta \u001b[36m0:00:00\u001b[0m00:01\u001b[0m00:01\u001b[0m\n",
      "\u001b[?25hCollecting nltk\n",
      "  Using cached nltk-3.7-py3-none-any.whl (1.5 MB)\n",
      "Collecting joblib\n",
      "  Using cached joblib-1.2.0-py3-none-any.whl (297 kB)\n",
      "Collecting tqdm\n",
      "  Using cached tqdm-4.64.1-py2.py3-none-any.whl (78 kB)\n",
      "Collecting requests\n",
      "  Using cached requests-2.28.1-py3-none-any.whl (62 kB)\n",
      "Collecting underthesea-core==0.0.5a2\n",
      "  Downloading underthesea_core-0.0.5_alpha.2-cp39-cp39-macosx_10_7_x86_64.whl (540 kB)\n",
      "\u001b[2K     \u001b[90m━━━━━━━━━━━━━━━━━━━━━━━━━━━━━━━━━━━━━━\u001b[0m \u001b[32m540.7/540.7 kB\u001b[0m \u001b[31m24.9 MB/s\u001b[0m eta \u001b[36m0:00:00\u001b[0m\n",
      "\u001b[?25hCollecting regex>=2021.8.3\n",
      "  Downloading regex-2022.10.31-cp39-cp39-macosx_10_9_x86_64.whl (293 kB)\n",
      "\u001b[2K     \u001b[90m━━━━━━━━━━━━━━━━━━━━━━━━━━━━━━━━━━━━━━━\u001b[0m \u001b[32m293.9/293.9 kB\u001b[0m \u001b[31m9.8 MB/s\u001b[0m eta \u001b[36m0:00:00\u001b[0m\n",
      "\u001b[?25hCollecting charset-normalizer<3,>=2\n",
      "  Using cached charset_normalizer-2.1.1-py3-none-any.whl (39 kB)\n",
      "Requirement already satisfied: idna<4,>=2.5 in /Users/oraichain/opt/anaconda3/envs/text/lib/python3.9/site-packages (from requests->underthesea) (3.4)\n",
      "Collecting urllib3<1.27,>=1.21.1\n",
      "  Using cached urllib3-1.26.12-py2.py3-none-any.whl (140 kB)\n",
      "Requirement already satisfied: certifi>=2017.4.17 in /Users/oraichain/opt/anaconda3/envs/text/lib/python3.9/site-packages (from requests->underthesea) (2022.9.24)\n",
      "Collecting threadpoolctl>=2.0.0\n",
      "  Using cached threadpoolctl-3.1.0-py3-none-any.whl (14 kB)\n",
      "Collecting numpy>=1.17.3\n",
      "  Downloading numpy-1.23.5-cp39-cp39-macosx_10_9_x86_64.whl (18.1 MB)\n",
      "\u001b[2K     \u001b[90m━━━━━━━━━━━━━━━━━━━━━━━━━━━━━━━━━━━━━━━━\u001b[0m \u001b[32m18.1/18.1 MB\u001b[0m \u001b[31m10.8 MB/s\u001b[0m eta \u001b[36m0:00:00\u001b[0m00:01\u001b[0m00:01\u001b[0m\n",
      "\u001b[?25hCollecting scipy>=1.3.2\n",
      "  Downloading scipy-1.9.3-cp39-cp39-macosx_10_9_x86_64.whl (34.3 MB)\n",
      "\u001b[2K     \u001b[90m━━━━━━━━━━━━━━━━━━━━━━━━━━━━━━━━━━━━━━━━\u001b[0m \u001b[32m34.3/34.3 MB\u001b[0m \u001b[31m10.4 MB/s\u001b[0m eta \u001b[36m0:00:00\u001b[0m00:01\u001b[0m00:01\u001b[0m\n",
      "\u001b[?25hInstalling collected packages: underthesea-core, python-crfsuite, urllib3, unidecode, tqdm, threadpoolctl, regex, PyYAML, numpy, joblib, Click, charset-normalizer, scipy, requests, nltk, scikit-learn, underthesea\n",
      "Successfully installed Click-8.1.3 PyYAML-6.0 charset-normalizer-2.1.1 joblib-1.2.0 nltk-3.7 numpy-1.23.5 python-crfsuite-0.9.8 regex-2022.10.31 requests-2.28.1 scikit-learn-1.1.3 scipy-1.9.3 threadpoolctl-3.1.0 tqdm-4.64.1 underthesea-1.3.5 underthesea-core-0.0.5a2 unidecode-1.3.6 urllib3-1.26.12\n"
     ]
    }
   ],
   "source": [
    "!pip3 install underthesea"
   ]
  },
  {
   "cell_type": "code",
   "execution_count": 2,
   "metadata": {},
   "outputs": [],
   "source": [
    "with open('all_text.txt','r',encoding='utf-8') as f:\n",
    "    string_s = f.read()"
   ]
  },
  {
   "cell_type": "code",
   "execution_count": 5,
   "metadata": {},
   "outputs": [],
   "source": [
    "from underthesea import sent_tokenize\n",
    "list_text = sent_tokenize(string_s)"
   ]
  },
  {
   "cell_type": "code",
   "execution_count": 39,
   "metadata": {},
   "outputs": [],
   "source": [
    "t = []\n",
    "text_wrong = ['$','{','}','[',']','#','*']\n",
    "for text in list_text:\n",
    "    wrong = False\n",
    "    for kill in text_wrong:\n",
    "        if kill in str(text):\n",
    "            wrong = True\n",
    "        else:\n",
    "            continue\n",
    "    if wrong == False:\n",
    "        t.append(text)\n",
    "        "
   ]
  },
  {
   "cell_type": "code",
   "execution_count": 56,
   "metadata": {},
   "outputs": [],
   "source": [
    "def share(sent):\n",
    "    list_share = []\n",
    "    for text in t:\n",
    "        if sent.lower() in text.lower():\n",
    "            list_share.append(text)\n",
    "    return list_share"
   ]
  },
  {
   "cell_type": "code",
   "execution_count": 58,
   "metadata": {},
   "outputs": [
    {
     "data": {
      "text/plain": [
       "['Cụ thể, chúng tôi sẽ xem xét CNN, RNN và sự tự chú ý.',\n",
       " 'Chúng tôi sẽ cung cấp thêm chi tiết về xử lý trình tự sử dụng CNN trong các chương sau.',\n",
       " 'Như chúng ta có thể thấy trong :numref:`fig_cnn-rnn-self-attention`, mỗi token được kết nối trực tiếp với bất kỳ mã thông báo nào khác thông qua sự tự chú ý.',\n",
       " 'Nói chung, cả CNN và sự tự chú ý đều được hưởng tính toán song song và sự tự chú ý có độ dài đường tối đa ngắn nhất.',\n",
       " 'Specifically,\\nwe will consider CNNs, RNNs, and self-attention.',\n",
       " 'We will provide more details about sequence processing\\nusing CNNs in later chapters.',\n",
       " 'As we can see in :numref:`fig_cnn-rnn-self-attention`,\\neach token is directly connected\\nto any other token via self-attention.',\n",
       " 'All in all,\\nboth CNNs and self-attention enjoy parallel computation\\nand self-attention has the shortest maximum path length.',\n",
       " 'Làm thế nào chúng ta có thể thiết kế các mô hình dựa trên máy biến áp cho các tác vụ phân loại hình ảnh mà không cần sử dụng CNN?',\n",
       " 'How can we design transformer-based models for image classification tasks without using CNNs?',\n",
       " 'Không giống như các CNN mà chúng ta gặp phải trước đó để phân loại hình ảnh hoặc phát hiện đối tượng, một mạng phức tạp hoàn toàn biến đổi chiều cao và chiều rộng của bản đồ tính năng trung gian trở lại hình ảnh đầu vào: điều này đạt được bằng lớp biến đổi được giới thiệu trong :numref:`sec_transposed_conv`.',\n",
       " 'Giấy mạng phức tạp hoàn toàn ban đầu cũng sử dụng đầu ra của một số lớp CNN trung gian :cite:`Long.Shelhamer.Darrell.2015`.',\n",
       " 'Unlike the CNNs that we encountered earlier\\nfor image classification \\nor object detection,\\na fully convolutional network\\ntransforms \\nthe height and width of intermediate feature maps\\nback to those of the input image:\\nthis is achieved by\\nthe transposed convolutional layer\\nintroduced in :numref:`sec_transposed_conv`.',\n",
       " 'The original fully convolutional network paper also uses outputs of some intermediate CNN layers :cite:`Long.Shelhamer.Darrell.2015`.',\n",
       " 'Trong :numref:`chap_cnn` và :numref:`chap_modern_cnn`, chúng tôi đã nghiên cứu các mạng thần kinh phức tạp khác nhau thường được sử dụng trong tầm nhìn máy tính và áp dụng chúng cho các tác vụ phân loại hình ảnh đơn giản.',\n",
       " 'In :numref:`chap_cnn` and :numref:`chap_modern_cnn`, we studied various convolutional neural networks that are\\ncommonly used in computer vision, and applied them\\nto simple image classification tasks.',\n",
       " 'Sau đây, chúng tôi giới thiệu phương pháp phát hiện đối tượng đa quy mô dựa trên CNN mà chúng tôi sẽ triển khai trong :numref:`sec_ssd`.',\n",
       " 'In the following\\nwe introduce a CNN-based multiscale object detection\\nmethod that we will implement\\nin :numref:`sec_ssd`.',\n",
       " 'Sau đó, chúng tôi chọn CNN được đào tạo trước để trích xuất các tính năng hình ảnh và đóng băng các thông số mô hình của nó trong quá trình đào tạo.',\n",
       " 'CNN sâu này sử dụng nhiều lớp để trích xuất các tính năng phân cấp cho hình ảnh.',\n",
       " 'Chức năng `preprocess` chuẩn hóa mỗi kênh trong ba kênh RGB của hình ảnh đầu vào và biến đổi kết quả thành định dạng đầu vào CNN.',\n",
       " 'Then we choose a pretrained CNN\\nto extract image features and freeze its\\nmodel parameters during training.',\n",
       " 'This deep CNN uses multiple layers\\nto extract\\nhierarchical features for images.',\n",
       " 'The `preprocess` function standardizes\\neach of the three RGB channels of the input image and transforms the results into the CNN input format.',\n",
       " 'Trong phần này, chúng tôi sẽ giới thiệu R-CNN và một loạt các cải tiến của nó: R-CNN :cite:`Girshick.2015` nhanh, R-CNN :cite:`Ren.He.Girshick.ea.2015` nhanh hơn và mặt nạ R-CNN :cite:`He.Gkioxari.Dollar.ea.2017`.',\n",
       " ':cite:`Girshick.Donahue.Darrell.ea.2014` Sau đó, CNN được sử dụng để thực hiện tuyên truyền chuyển tiếp trên mỗi đề xuất khu vực để trích xuất của nó tính năng.',\n",
       " 'Cụ thể hơn, R-CNN bao gồm bốn bước sau: \\n\\n1.',\n",
       " 'Chọn một CNN được đào tạo trước và cắt ngắn nó trước lớp đầu ra.',\n",
       " 'Mặc dù mô hình R-CNN sử dụng CNN được đào tạo trước để trích xuất hiệu quả các tính năng hình ảnh, nhưng nó chậm.',\n",
       " 'Hãy tưởng tượng rằng chúng tôi chọn hàng ngàn đề xuất khu vực từ một hình ảnh đầu vào duy nhất: điều này đòi hỏi hàng ngàn tuyên truyền chuyển tiếp CNN để thực hiện phát hiện đối tượng.',\n",
       " 'Tải trọng điện toán lớn này làm cho việc sử dụng rộng rãi R-CNN trong các ứng dụng trong thế giới thực không khả thi.',\n",
       " 'So với R-CNN, trong R-CNN nhanh, đầu vào của CNN để trích xuất tính năng là toàn bộ hình ảnh, chứ không phải là các đề xuất khu vực riêng lẻ.',\n",
       " 'Hơn nữa, CNN này là có thể đào tạo.',\n",
       " 'Các đề xuất khu vực này (có hình dạng khác nhau) đánh dấu các vùng được quan tâm (có hình dạng khác nhau) trên đầu ra CNN.',\n",
       " 'Khu vực của lớp tổng hợp quan tâm được đề xuất trong R-CNN nhanh khác với lớp tổng hợp được giới thiệu vào năm :numref:`sec_pooling`.',\n",
       " 'Giả sử rằng chiều cao và chiều rộng của các tính năng trích xuất CNN `X` đều là 4 và chỉ có một kênh duy nhất.',\n",
       " 'So với R-CNN nhanh, R-CNN nhanh hơn chỉ thay đổi phương pháp đề xuất khu vực từ tìm kiếm chọn lọc sang mạng đề xuất khu vực.',\n",
       " 'Điều đáng chú ý là, là một phần của mô hình R-CNN nhanh hơn, mạng lưới đề xuất khu vực được cùng đào tạo với phần còn lại của mô hình.',\n",
       " 'Nói cách khác, hàm khách quan của R-CNN nhanh hơn bao gồm không chỉ dự đoán lớp và hộp giới hạn trong phát hiện đối tượng, mà còn là lớp nhị phân và dự đoán hộp giới hạn của các hộp neo trong mạng đề xuất khu vực.',\n",
       " 'In this section, we will introduce\\nthe R-CNN and its series of improvements: the fast R-CNN\\n:cite:`Girshick.2015`, the faster R-CNN :cite:`Ren.He.Girshick.ea.2015`, and the mask R-CNN\\n:cite:`He.Gkioxari.Dollar.ea.2017`.',\n",
       " ':cite:`Girshick.Donahue.Darrell.ea.2014`\\nThen a CNN is used to \\nperform forward propagation on each region proposal\\nto extract its features.',\n",
       " 'More concretely, the R-CNN consists of the following four steps:\\n\\n1.',\n",
       " 'Choose a pretrained CNN and truncate it before the output layer.',\n",
       " 'Although the R-CNN model uses pretrained CNNs to effectively extract image features, \\nit is slow.',\n",
       " 'Imagine that we select\\nthousands of region proposals from a single input image:\\nthis requires thousands of\\nCNN forward propagations to perform object detection.',\n",
       " 'This massive\\ncomputing load makes it infeasible to\\nwidely use R-CNNs in real-world applications.',\n",
       " 'Compared with the R-CNN, in the fast R-CNN the input of the CNN for feature extraction is the entire image, rather than individual region proposals.',\n",
       " 'Moreover, this CNN is trainable.',\n",
       " 'These region proposals (of different shapes) mark regions of interest (of different shapes) on the CNN output.',\n",
       " 'The region of interest pooling layer proposed in the fast R-CNN is different from the pooling layer introduced in :numref:`sec_pooling`.',\n",
       " 'Suppose that the height and width of the CNN-extracted features `X` are both 4, and there is only a single channel.',\n",
       " 'Compared with the fast R-CNN,\\nthe faster R-CNN only changes\\nthe region proposal method\\nfrom selective search to a region proposal network.',\n",
       " 'It is worth noting that, \\nas part of the faster R-CNN model,\\nthe region\\nproposal network is jointly trained\\nwith the rest of the model.',\n",
       " 'In other words, the objective function of \\nthe faster R-CNN includes\\nnot only the class and bounding box prediction\\nin object detection,\\nbut also the binary class and bounding box prediction\\nof anchor boxes in the region proposal network.',\n",
       " 'Mạng cơ sở là để trích xuất các tính năng từ hình ảnh đầu vào, vì vậy nó có thể sử dụng CNN sâu.',\n",
       " 'Khác với các tác vụ phân loại hình ảnh, đầu ra ở đây bao gồm (i) bản đồ tính năng CNN `Y`, (ii) hộp neo được tạo ra bằng cách sử dụng `Y` ở thang đo hiện tại, và (iii) lớp và bù dự đoán (dựa trên `Y`) cho các hộp neo này.',\n",
       " 'The base network\\nis for extracting features from the input image,\\nso it can use a deep CNN.',\n",
       " 'Different from \\nin image classification tasks,\\noutputs here include\\n(i) CNN feature maps `Y`,\\n(ii) anchor boxes generated using `Y` at the current scale,\\nand (iii) classes and offsets predicted (based on `Y`)\\nfor these anchor boxes.',\n",
       " 'Để đạt được điều này, đặc biệt là sau khi các kích thước không gian bị giảm bởi các lớp CNN, chúng ta có thể sử dụng một loại lớp CNN khác có thể tăng (upsample) kích thước không gian của bản đồ tính năng trung gian.',\n",
       " 'To achieve this, especially after \\nthe spatial dimensions are reduced by CNN layers,\\nwe can use another type\\nof CNN layers\\nthat can increase (upsample) the spatial dimensions\\nof intermediate feature maps.',\n",
       " 'Mặc dù LeNet đạt được kết quả tốt trên các tập dữ liệu nhỏ ban đầu, nhưng hiệu suất và tính khả thi của việc đào tạo CNN trên các tập dữ liệu lớn hơn, thực tế hơn vẫn chưa được thiết lập.',\n",
       " 'Mặc dù một số máy gia tốc mạng thần kinh đã có sẵn trong những năm 1990, nhưng chúng chưa đủ mạnh để tạo ra các CNN đa kênh sâu, đa lớp với một số lượng lớn các tham số.',\n",
       " 'Trong khi bước đột phá cuối cùng cho các CNN nhiều lớp đến vào năm 2012, một nhóm các nhà nghiên cứu cốt lõi đã cống hiến hết mình cho ý tưởng này, cố gắng tìm hiểu các đại diện phân cấp của dữ liệu trực quan trong nhiều năm.',\n",
       " 'Một bước đột phá lớn đến khi Alex Krizhevsky và Ilya Sutkever triển khai một CNN sâu có thể chạy trên phần cứng GPU.',\n",
       " 'Họ nhận ra rằng các tắc nghẽn tính toán trong CNN s, sự phức tạp và nhân ma trận, là tất cả các hoạt động có thể được song song trong phần cứng.',\n",
       " 'Although LeNet achieved good results on early small datasets,\\nthe performance and feasibility of training CNNs\\non larger, more realistic datasets had yet to be established.',\n",
       " 'Although some neural network accelerators were available in the 1990s,\\nthey were not yet sufficiently powerful to make\\ndeep multichannel, multilayer CNNs\\nwith a large number of parameters.',\n",
       " 'While the ultimate breakthrough for many-layered CNNs\\ncame in 2012, a core group of researchers had dedicated themselves\\nto this idea, attempting to learn hierarchical representations of visual data\\nfor many years.',\n",
       " 'A major breakthrough came\\nwhen Alex Krizhevsky and Ilya Sutskever\\nimplemented a deep CNN\\nthat could run on GPU hardware.',\n",
       " 'They realized that the computational bottlenecks in CNNs,\\nconvolutions and matrix multiplications,\\nare all operations that could be parallelized in hardware.',\n",
       " 'Thứ hai, đối với MLP hoặc CNN điển hình, khi chúng ta đào tạo, các biến (ví dụ, đầu ra chuyển đổi affine trong MLP) trong các lớp trung gian có thể lấy các giá trị với kích thước khác nhau rộng rãi: cả dọc theo các lớp từ đầu vào đến đầu ra, trên các đơn vị trong cùng một lớp và theo thời gian do các bản cập nhật của chúng tôi cho mô hình tham số.',\n",
       " 'Nhớ lại rằng chúng ta thậm chí không biết tại sao các mạng thần kinh sâu đơn giản hơn (MLP và CNN thông thường) khái quát tốt ngay từ đầu.',\n",
       " 'Second, for a typical MLP or CNN, as we train,\\nthe variables (e.g., affine transformation outputs in MLP)\\nin intermediate layers \\nmay take values with widely varying magnitudes:\\nboth along the layers from the input to the output, across units in the same layer,\\nand over time due to our updates to the model parameters.',\n",
       " 'Recall that we do not even know why simpler\\ndeep neural networks (MLPs and conventional CNNs)\\ngeneralize well in the first place.',\n",
       " 'Trong chương này, mỗi phần tương ứng với một kiến trúc CNN quan trọng đó là tại một số điểm (hoặc hiện tại) mô hình cơ sở mà trên đó nhiều dự án nghiên cứu và hệ thống triển khai đã được xây dựng.',\n",
       " 'In this chapter, each section corresponds \\nto a significant CNN architecture that was \\nat some point (or currently) the base model\\nupon which many research projects and deployed systems were built.',\n",
       " 'Các kiến trúc dựa trên CNN hiện đang phổ biến trong lĩnh vực thị giác máy tính, và đã trở nên chiếm ưu thế đến mức hầu như không ai ngày nay sẽ phát triển một ứng dụng thương mại hoặc tham gia một cuộc thi liên quan đến nhận dạng hình ảnh, phát hiện đối tượng hoặc phân khúc ngữ nghĩa, mà không cần xây dựng cách tiếp cận này.',\n",
       " 'CNN hiện đại, vì chúng được gọi là thông tục nợ thiết kế của họ để truyền cảm hứng từ sinh học, lý thuyết nhóm và một liều lượng lành mạnh của mày mò thử nghiệm.',\n",
       " 'Ngoài hiệu quả mẫu của chúng trong việc đạt được các mô hình chính xác, CNN có xu hướng hiệu quả về mặt tính toán, cả vì chúng yêu cầu ít tham số hơn các kiến trúc được kết nối hoàn toàn và vì các phức tạp dễ song song trên các lõi GPU.',\n",
       " 'Do đó, các học viên thường áp dụng CNN bất cứ khi nào có thể, và ngày càng họ nổi lên như đối thủ cạnh tranh đáng tin cậy ngay cả trên các nhiệm vụ có cấu trúc trình tự một chiều, chẳng hạn như phân tích chuỗi âm thanh, văn bản và chuỗi thời gian, nơi các mạng thần kinh tái phát được sử dụng thông thường.',\n",
       " 'Một số sự thích nghi thông minh của CNN cũng đã đưa chúng chịu đựng dữ liệu có cấu trúc đồ thị và trong các hệ thống giới thiệu.',\n",
       " 'Trong chương tiếp theo, chúng ta sẽ đi sâu vào triển khai đầy đủ một số kiến trúc CNN phổ biến và tương đối gần đây có thiết kế đại diện cho hầu hết các kỹ thuật thường được sử dụng bởi các học viên hiện đại.',\n",
       " 'CNN-based architectures are now ubiquitous\\nin the field of computer vision, \\nand have become so dominant\\nthat hardly anyone today would develop\\na commercial application or enter a competition\\nrelated to image recognition, object detection,\\nor semantic segmentation,\\nwithout building off of this approach.',\n",
       " 'Modern CNNs, as they are called colloquially\\nowe their design to inspirations from biology, group theory,\\nand a healthy dose of experimental tinkering.',\n",
       " 'In addition to their sample efficiency in achieving accurate models,\\nCNNs tend to be computationally efficient,\\nboth because they require fewer parameters than fully-connected architectures\\nand because convolutions are easy to parallelize across GPU cores.',\n",
       " 'Consequently, practitioners often apply CNNs whenever possible,\\nand increasingly they have emerged as credible competitors\\neven on tasks with a one-dimensional sequence structure,\\nsuch as audio, text, and time series analysis,\\nwhere recurrent neural networks are conventionally used.',\n",
       " 'Some clever adaptations of CNNs have also brought them to bear\\non graph-structured data and in recommender systems.',\n",
       " 'In the next chapter, we will dive into full implementations\\nof some popular and comparatively recent CNN architectures\\nwhose designs represent most of the techniques\\ncommonly used by modern practitioners.',\n",
       " 'Năm 1989, LeCun công bố nghiên cứu đầu tiên để đào tạo thành công CNN thông qua truyền ngược.',\n",
       " 'In 1989, LeCun published the first study to successfully\\ntrain CNNs via backpropagation.',\n",
       " 'CNN thường sử dụng hạt nhân phức tạp với các giá trị chiều cao và chiều rộng lẻ, chẳng hạn như 1, 3, 5 hoặc 7.',\n",
       " 'CNNs commonly use convolution kernels\\nwith odd height and width values, such as 1, 3, 5, or 7.',\n",
       " 'Mạng thần kinh phức tạp (CNN) là một cách sáng tạo mà machine learning đã chấp nhận để khai thác một số cấu trúc đã biết trong hình ảnh tự nhiên.',\n",
       " 'Convolutional neural networks (CNNs) are one creative way\\nthat machine learning has embraced for exploiting\\nsome of the known structure in natural images.',\n",
       " 'Cụ thể, chúng tôi sẽ khám phá các kiến trúc phổ biến dựa trên RNNs và CNN để phân tích tình cảm.',\n",
       " 'Khi không gian hoặc thời gian bị hạn chế, những mô hình được chế tạo dựa trên MLP, CNN, RNN và sự chú ý sẽ khả thi hơn.',\n",
       " 'Sau đây, chúng ta bắt đầu bằng ứng dụng phân tích tình cảm và minh họa thiết kế mô hình dựa trên RNN và CNN, tương ứng.',\n",
       " 'Specifically, we will explore popular architectures based on RNNs and CNNs for sentiment analysis.',\n",
       " 'When space or time is limited,\\nthose crafted models based on MLPs, CNNs, RNNs, and attention\\nare more feasible.',\n",
       " 'In the following, we start by the sentiment analysis application\\nand illustrate the model design based on RNNs and CNNs, respectively.',\n",
       " 'Mặc dù ban đầu được thiết kế cho tầm nhìn máy tính, CNN cũng được sử dụng rộng rãi để xử lý ngôn ngữ tự nhiên.',\n",
       " 'So với :numref:`fig_nlp-map-sa-rnn` sử dụng một kiến trúc RNN với Glove pretraining để phân tích tình cảm, sự khác biệt duy nhất trong :numref:`fig_nlp-map-sa-cnn` nằm ở sự lựa chọn của kiến trúc. \\n\\n!',\n",
       " 'Mô hình textCNN biến đổi đầu vào thành đầu ra như sau: \\n\\n1.',\n",
       " 'Though originally \\ndesigned for computer vision,\\nCNNs are also widely used\\nfor natural language processing.',\n",
       " 'Compared with \\n:numref:`fig_nlp-map-sa-rnn`\\nthat uses an RNN architecture with GloVe pretraining\\nfor sentiment analysis,\\nthe only difference in :numref:`fig_nlp-map-sa-cnn`\\nlies in\\nthe choice of the architecture.\\n\\n\\n!',\n",
       " 'The textCNN model transforms the input\\ninto the output as follows:\\n\\n1.',\n",
       " 'Xin xem :numref:`chap_cnn` để được làm mới khi cần thiết.',\n",
       " 'See :numref:`chap_cnn` for a refresher as needed.',\n",
       " 'Tiếp theo, :numref:`chap_cnn` và :numref:`chap_modern_cnn`, giới thiệu các mạng thần kinh phức tạp (CNN), các công cụ mạnh mẽ tạo thành xương sống của hầu hết các hệ thống thị giác máy tính hiện đại.',\n",
       " 'Next, :numref:`chap_cnn` and :numref:`chap_modern_cnn`,\\nintroduce convolutional neural networks (CNNs), \\npowerful tools that form the backbone \\nof most modern computer vision systems.']"
      ]
     },
     "execution_count": 58,
     "metadata": {},
     "output_type": "execute_result"
    }
   ],
   "source": [
    "share('cnn')"
   ]
  },
  {
   "cell_type": "code",
   "execution_count": null,
   "metadata": {},
   "outputs": [],
   "source": []
  }
 ],
 "metadata": {
  "kernelspec": {
   "display_name": "Python 3.9.15 ('text')",
   "language": "python",
   "name": "python3"
  },
  "language_info": {
   "codemirror_mode": {
    "name": "ipython",
    "version": 3
   },
   "file_extension": ".py",
   "mimetype": "text/x-python",
   "name": "python",
   "nbconvert_exporter": "python",
   "pygments_lexer": "ipython3",
   "version": "3.9.15"
  },
  "orig_nbformat": 4,
  "vscode": {
   "interpreter": {
    "hash": "40bdd39b89272a6d64d7c4817311dc284513756ad3bc5af346d695392c9073ae"
   }
  }
 },
 "nbformat": 4,
 "nbformat_minor": 2
}
